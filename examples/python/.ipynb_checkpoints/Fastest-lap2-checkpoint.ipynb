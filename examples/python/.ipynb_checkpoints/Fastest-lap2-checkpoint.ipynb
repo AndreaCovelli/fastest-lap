{
 "cells": [
  {
   "cell_type": "markdown",
   "id": "97387c11",
   "metadata": {},
   "source": [
    "# G-G diagram"
   ]
  },
  {
   "cell_type": "code",
   "execution_count": 1,
   "id": "7cbb6773",
   "metadata": {
    "scrolled": false
   },
   "outputs": [],
   "source": [
    "import fastest_lap"
   ]
  },
  {
   "cell_type": "code",
   "execution_count": 2,
   "id": "42192834",
   "metadata": {},
   "outputs": [],
   "source": [
    "# Load vehicle\n",
    "vehicle=fastest_lap.load_vehicle(\"../../database/roberto-lot-kart-2016.xml\",\"car\");"
   ]
  },
  {
   "cell_type": "code",
   "execution_count": 3,
   "id": "bd98f4a2",
   "metadata": {},
   "outputs": [
    {
     "ename": "NameError",
     "evalue": "name 'vehicle' is not defined",
     "output_type": "error",
     "traceback": [
      "\u001b[0;31m---------------------------------------------------------------------------\u001b[0m",
      "\u001b[0;31mNameError\u001b[0m                                 Traceback (most recent call last)",
      "\u001b[0;32m<ipython-input-3-c7c45c030766>\u001b[0m in \u001b[0;36m<module>\u001b[0;34m\u001b[0m\n\u001b[1;32m      1\u001b[0m \u001b[0;31m# Compute and plot gg_diagram\u001b[0m\u001b[0;34m\u001b[0m\u001b[0;34m\u001b[0m\u001b[0;34m\u001b[0m\u001b[0m\n\u001b[0;32m----> 2\u001b[0;31m \u001b[0mfastest_lap\u001b[0m\u001b[0;34m.\u001b[0m\u001b[0mplot_gg\u001b[0m\u001b[0;34m(\u001b[0m\u001b[0;34m*\u001b[0m\u001b[0mfastest_lap\u001b[0m\u001b[0;34m.\u001b[0m\u001b[0mgg_diagram\u001b[0m\u001b[0;34m(\u001b[0m\u001b[0mvehicle\u001b[0m\u001b[0;34m,\u001b[0m\u001b[0;36m50.0\u001b[0m\u001b[0;34m/\u001b[0m\u001b[0;36m3.6\u001b[0m\u001b[0;34m,\u001b[0m\u001b[0;36m100\u001b[0m\u001b[0;34m)\u001b[0m\u001b[0;34m)\u001b[0m\u001b[0;34m;\u001b[0m\u001b[0;34m\u001b[0m\u001b[0;34m\u001b[0m\u001b[0m\n\u001b[0m",
      "\u001b[0;31mNameError\u001b[0m: name 'vehicle' is not defined"
     ]
    }
   ],
   "source": [
    "# Compute and plot gg_diagram\n",
    "fastest_lap.plot_gg(*fastest_lap.gg_diagram(vehicle,50.0/3.6,100));"
   ]
  },
  {
   "cell_type": "code",
   "execution_count": null,
   "id": "bff7ba15",
   "metadata": {},
   "outputs": [],
   "source": []
  }
 ],
 "metadata": {
  "kernelspec": {
   "display_name": "Python 3",
   "language": "python",
   "name": "python3"
  },
  "language_info": {
   "codemirror_mode": {
    "name": "ipython",
    "version": 3
   },
   "file_extension": ".py",
   "mimetype": "text/x-python",
   "name": "python",
   "nbconvert_exporter": "python",
   "pygments_lexer": "ipython3",
   "version": "3.8.8"
  }
 },
 "nbformat": 4,
 "nbformat_minor": 5
}
