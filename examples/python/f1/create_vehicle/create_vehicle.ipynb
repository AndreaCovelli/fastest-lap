{
 "cells": [
  {
   "cell_type": "markdown",
   "id": "0e3354bc",
   "metadata": {},
   "source": [
    "# Create vehicle\n",
    "\n",
    "This notebook shows two methods to load a vehicle ready to be used for simulations"
   ]
  },
  {
   "cell_type": "code",
   "execution_count": 1,
   "id": "35c60f81",
   "metadata": {},
   "outputs": [],
   "source": [
    "# Put parent folder in the pythonpath\n",
    "import sys,os,inspect\n",
    "\n",
    "import matplotlib.pyplot as plt\n",
    "sys.path.append(os.path.dirname(os.path.dirname(os.path.dirname(os.path.abspath(inspect.getfile(inspect.currentframe()))))))\n",
    "import fastest_lap\n",
    "from fastest_lap import KMH"
   ]
  },
  {
   "cell_type": "markdown",
   "id": "5b465283",
   "metadata": {},
   "source": [
    "## 1 Via XML file\n",
    "\n",
    "One can use an XML file containing the whole set of parameters required to build the model. In this case, the file limebeer-2014-f1.xml.\n",
    "\n",
    "The call to load_vehicle takes three arguments: the car given name, the model type (limebeer-2014-f1 in this case, is the 3DOF model), and the path to the XML database file"
   ]
  },
  {
   "cell_type": "code",
   "execution_count": 2,
   "id": "26fa66a3",
   "metadata": {},
   "outputs": [],
   "source": [
    "# Load vehicle\n",
    "vehicle_xml=fastest_lap.load_vehicle(\"car-via-xml\",\"limebeer-2014-f1\",\"../../../../database/limebeer-2014-f1.xml\");"
   ]
  },
  {
   "cell_type": "markdown",
   "id": "574767d6",
   "metadata": {},
   "source": [
    "## 2 Via the set_parameter functions\n",
    "\n",
    "The second method consists in creating a default car, and then supply the parameters one by one via the set_parameter function"
   ]
  },
  {
   "cell_type": "code",
   "execution_count": 3,
   "id": "ab6e4fc1",
   "metadata": {},
   "outputs": [],
   "source": [
    "# Load empty vehicle\n",
    "vehicle_manual=fastest_lap.load_vehicle(\"car-manual\",\"limebeer-2014-f1\",\"\");"
   ]
  },
  {
   "cell_type": "code",
   "execution_count": 7,
   "id": "81910319",
   "metadata": {},
   "outputs": [
    {
     "ename": "SyntaxError",
     "evalue": "invalid syntax (<ipython-input-7-ab3c66b87f9b>, line 23)",
     "output_type": "error",
     "traceback": [
      "\u001b[0;36m  File \u001b[0;32m\"<ipython-input-7-ab3c66b87f9b>\"\u001b[0;36m, line \u001b[0;32m23\u001b[0m\n\u001b[0;31m    fastest_lap.set_scalar_parameter(vehicle_manual,\"vehicle/chassis/front_axle/y\", 0.0;\u001b[0m\n\u001b[0m                                                                                       ^\u001b[0m\n\u001b[0;31mSyntaxError\u001b[0m\u001b[0;31m:\u001b[0m invalid syntax\n"
     ]
    }
   ],
   "source": [
    "fastest_lap.set_scalar_parameter(vehicle_manual,\"vehicle/front-axle/track\", 1.46);\n",
    "fastest_lap.set_scalar_parameter(vehicle_manual,\"vehicle/front-axle/inertia\", 1.0);\n",
    "fastest_lap.set_scalar_parameter(vehicle_manual,\"vehicle/front-axle/smooth_throttle_coeff\", 1.0e-5);\n",
    "fastest_lap.set_scalar_parameter(vehicle_manual,\"vehicle/front-axle/brakes/max_torque\", 5000.0);\n",
    "\n",
    "fastest_lap.set_scalar_parameter(vehicle_manual,\"vehicle/rear-axle/track\", 1.46);\n",
    "fastest_lap.set_scalar_parameter(vehicle_manual,\"vehicle/rear-axle/inertia\", 1.55);\n",
    "fastest_lap.set_scalar_parameter(vehicle_manual,\"vehicle/rear-axle/smooth_throttle_coeff\", 1.0e-5);\n",
    "fastest_lap.set_scalar_parameter(vehicle_manual,\"vehicle/rear-axle/differential_stiffness\", 10.47);\n",
    "fastest_lap.set_scalar_parameter(vehicle_manual,\"vehicle/rear-axle/brakes/max_torque\", 5000.0);\n",
    "fastest_lap.set_scalar_parameter(vehicle_manual,\"vehicle/rear-axle/engine/maximum-power\", 735.499);\n",
    "\n",
    "fastest_lap.set_scalar_parameter(vehicle_manual,\"vehicle/chassis/mass\", 660.0);\n",
    "fastest_lap.set_matrix_parameter(vehicle_manual,\"vehicle/chassis/inertia\", [0.0, 0.0, 0.0, 0.0, 0.0, 0.0, 0.0, 0.0, 450.0]);\n",
    "fastest_lap.set_scalar_parameter(vehicle_manual,\"vehicle/chassis/aerodynamics/rho\", 1.2);\n",
    "fastest_lap.set_scalar_parameter(vehicle_manual,\"vehicle/chassis/aerodynamics/area\", 1.5);\n",
    "fastest_lap.set_scalar_parameter(vehicle_manual,\"vehicle/chassis/aerodynamics/cd\", 0.9);\n",
    "fastest_lap.set_scalar_parameter(vehicle_manual,\"vehicle/chassis/aerodynamics/cl\", 3.0);\n",
    "fastest_lap.set_scalar_parameter(vehicle_manual,\"vehicle/chassis/com/x\", 0.0);\n",
    "fastest_lap.set_scalar_parameter(vehicle_manual,\"vehicle/chassis/com/y\", 0.0);\n",
    "fastest_lap.set_scalar_parameter(vehicle_manual,\"vehicle/chassis/com/z\", -0.3);\n",
    "fastest_lap.set_scalar_parameter(vehicle_manual,\"vehicle/chassis/front_axle/x\", 1.8);\n",
    "fastest_lap.set_scalar_parameter(vehicle_manual,\"vehicle/chassis/front_axle/y\", 0.0);\n",
    "fastest_lap.set_scalar_parameter(vehicle_manual,\"vehicle/chassis/front_axle/z\", -0.33);\n",
    "fastest_lap.set_scalar_parameter(vehicle_manual,\"vehicle/chassis/rear_axle/x\", 1.6);\n",
    "fastest_lap.set_scalar_parameter(vehicle_manual,\"vehicle/chassis/rear_axle/y\", 0.0);\n",
    "fastest_lap.set_scalar_parameter(vehicle_manual,\"vehicle/chassis/rear_axle/z\", -0.33);                                 \n",
    "fastest_lap.set_scalar_parameter(vehicle_manual,\"vehicle/chassis/pressure_center/x\", -0.1);                                 \n",
    "fastest_lap.set_scalar_parameter(vehicle_manual,\"vehicle/chassis/pressure_center/y\", 0.0);                                 \n",
    "fastest_lap.set_scalar_parameter(vehicle_manual,\"vehicle/chassis/pressure_center/z\", -0.3);                                                                  \n",
    "fastest_lap.set_scalar_parameter(vehicle_manual,\"vehicle/chassis/brake_bias\", 0.6);\n",
    "fastest_lap.set_scalar_parameter(vehicle_manual,\"vehicle/chassis/roll_balance_coefficient\", 0.5);\n",
    "fastest_lap.set_scalar_parameter(vehicle_manual,\"vehicle/chassis/Fz_max_ref2\", 1.0);\n",
    "\n",
    "fastest_lap.set_scalar_parameter(vehicle_manual,\"vehicle/front-tire/radius\",0.330); \n",
    "fastest_lap.set_scalar_parameter(vehicle_manual,\"vehicle/front-tire/radial-stiffness\",0.0);\n",
    "fastest_lap.set_scalar_parameter(vehicle_manual,\"vehicle/front-tire/radial-damping\",0.0);\n",
    "fastest_lap.set_scalar_parameter(vehicle_manual,\"vehicle/front-tire/Fz-max-ref2\", 1.0 );\n",
    "fastest_lap.set_scalar_parameter(vehicle_manual,\"vehicle/front-tire/reference-load-1\", 2000.0 ); \n",
    "fastest_lap.set_scalar_parameter(vehicle_manual,\"vehicle/front-tire/reference-load-2\", 6000.0 ); \n",
    "fastest_lap.set_scalar_parameter(vehicle_manual,\"vehicle/front-tire/mu-x-max-1\", 1.75 );\n",
    "fastest_lap.set_scalar_parameter(vehicle_manual,\"vehicle/front-tire/mu-x-max-2\", 1.40 );\n",
    "fastest_lap.set_scalar_parameter(vehicle_manual,\"vehicle/front-tire/kappa-max-1\", 0.11 );\n",
    "fastest_lap.set_scalar_parameter(vehicle_manual,\"vehicle/front-tire/kappa-max-2\", 0.10 );\n",
    "fastest_lap.set_scalar_parameter(vehicle_manual,\"vehicle/front-tire/mu-y-max-1\", 1.80 );\n",
    "fastest_lap.set_scalar_parameter(vehicle_manual,\"vehicle/front-tire/mu-y-max-2\", 1.45 );\n",
    "fastest_lap.set_scalar_parameter(vehicle_manual,\"vehicle/front-tire/lambda-max-1\", 9.0 );\n",
    "fastest_lap.set_scalar_parameter(vehicle_manual,\"vehicle/front-tire/lambda-max-2\", 8.0 );\n",
    "fastest_lap.set_scalar_parameter(vehicle_manual,\"vehicle/front-tire/Qx\", 1.9 );\n",
    "fastest_lap.set_scalar_parameter(vehicle_manual,\"vehicle/front-tire/Qy\", 1.9 );\n",
    "\n",
    "fastest_lap.set_scalar_parameter(vehicle_manual,\"vehicle/rear-tire/radius\",0.330); \n",
    "fastest_lap.set_scalar_parameter(vehicle_manual,\"vehicle/rear-tire/radial-stiffness\",0.0);\n",
    "fastest_lap.set_scalar_parameter(vehicle_manual,\"vehicle/rear-tire/radial-damping\",0.0);\n",
    "fastest_lap.set_scalar_parameter(vehicle_manual,\"vehicle/rear-tire/Fz-max-ref2\", 1.0 );\n",
    "fastest_lap.set_scalar_parameter(vehicle_manual,\"vehicle/rear-tire/reference-load-1\", 2000.0 ); \n",
    "fastest_lap.set_scalar_parameter(vehicle_manual,\"vehicle/rear-tire/reference-load-2\", 6000.0 ); \n",
    "fastest_lap.set_scalar_parameter(vehicle_manual,\"vehicle/rear-tire/mu-x-max-1\", 1.75 );\n",
    "fastest_lap.set_scalar_parameter(vehicle_manual,\"vehicle/rear-tire/mu-x-max-2\", 1.40 );\n",
    "fastest_lap.set_scalar_parameter(vehicle_manual,\"vehicle/rear-tire/kappa-max-1\", 0.11 );\n",
    "fastest_lap.set_scalar_parameter(vehicle_manual,\"vehicle/rear-tire/kappa-max-2\", 0.10 );\n",
    "fastest_lap.set_scalar_parameter(vehicle_manual,\"vehicle/rear-tire/mu-y-max-1\", 1.80 );\n",
    "fastest_lap.set_scalar_parameter(vehicle_manual,\"vehicle/rear-tire/mu-y-max-2\", 1.45 );\n",
    "fastest_lap.set_scalar_parameter(vehicle_manual,\"vehicle/rear-tire/lambda-max-1\", 9.0);\n",
    "fastest_lap.set_scalar_parameter(vehicle_manual,\"vehicle/rear-tire/lambda-max-2\", 8.0);\n",
    "fastest_lap.set_scalar_parameter(vehicle_manual,\"vehicle/rear-tire/Qx\", 1.9 );\n",
    "fastest_lap.set_scalar_parameter(vehicle_manual,\"vehicle/rear-tire/Qy\", 1.9 );\n"
   ]
  },
  {
   "cell_type": "code",
   "execution_count": null,
   "id": "5466d147",
   "metadata": {},
   "outputs": [],
   "source": []
  }
 ],
 "metadata": {
  "kernelspec": {
   "display_name": "Python 3",
   "language": "python",
   "name": "python3"
  },
  "language_info": {
   "codemirror_mode": {
    "name": "ipython",
    "version": 3
   },
   "file_extension": ".py",
   "mimetype": "text/x-python",
   "name": "python",
   "nbconvert_exporter": "python",
   "pygments_lexer": "ipython3",
   "version": "3.8.8"
  }
 },
 "nbformat": 4,
 "nbformat_minor": 5
}
